{
 "cells": [
  {
   "cell_type": "markdown",
   "id": "0b39fd24",
   "metadata": {},
   "source": [
    "# karakter stat"
   ]
  },
  {
   "cell_type": "code",
   "execution_count": 21,
   "id": "d6beaebd",
   "metadata": {},
   "outputs": [
    {
     "data": {
      "text/plain": [
       "'http://karakterstatistik.stads.ku.dk/Histogram/NDAK15006E/Winter-2023/B2'"
      ]
     },
     "execution_count": 21,
     "metadata": {},
     "output_type": "execute_result"
    }
   ],
   "source": [
    "import pandas as pd\n",
    "df_kuh = pd.read_csv('ku_histograms2.csv')\n",
    "#df_kuh.columns\n",
    "df_kuh['url'][5]"
   ]
  },
  {
   "cell_type": "code",
   "execution_count": 22,
   "id": "3a36f613",
   "metadata": {},
   "outputs": [
    {
     "data": {
      "text/plain": [
       "0    NDAA09023E\n",
       "1    NDAA09023E\n",
       "2    NDAK15006E\n",
       "3    NDAA09023E\n",
       "4    NDAA09023E\n",
       "Name: code, dtype: object"
      ]
     },
     "execution_count": 22,
     "metadata": {},
     "output_type": "execute_result"
    }
   ],
   "source": [
    "import pandas as pd\n",
    "\n",
    "# Load your DataFrame\n",
    "df_kuh = pd.read_csv('ku_histograms2.csv')\n",
    "\n",
    "# Extract the course code using a regular expression\n",
    "df_kuh['code'] = df_kuh['url'].str.extract(r'/Histogram/([^/]+)')\n",
    "\n",
    "# Now df_kuh['code'] contains the course code\n",
    "df_kuh['code'].head()\n"
   ]
  },
  {
   "cell_type": "markdown",
   "id": "09229ac5",
   "metadata": {},
   "source": [
    "# KU Courses"
   ]
  },
  {
   "cell_type": "code",
   "execution_count": 26,
   "id": "962b05eb",
   "metadata": {},
   "outputs": [
    {
     "data": {
      "text/plain": [
       "Index(['url', 'title', 'volume', 'education', 'content', 'learning_outcome',\n",
       "       'literature', 'recommended_prereq', 'teaching_methods', 'workload',\n",
       "       'feedback_form', 'signup', 'exam_html', 'language', 'course_code',\n",
       "       'ects', 'level', 'duration', 'placement', 'schedule', 'capacity',\n",
       "       'study_board', 'department', 'faculty', 'course_coordinators',\n",
       "       'last_modified'],\n",
       "      dtype='object')"
      ]
     },
     "execution_count": 26,
     "metadata": {},
     "output_type": "execute_result"
    }
   ],
   "source": [
    "df_kuc = pd.read_csv('ku_courses.csv')\n",
    "#df_kuc.columns\n",
    "df_kuc.head(2)\n",
    "df_kuc.columns"
   ]
  },
  {
   "cell_type": "code",
   "execution_count": 27,
   "id": "659cf35f",
   "metadata": {},
   "outputs": [
    {
     "data": {
      "text/plain": [
       "Index(['url', 'title', 'volume', 'education', 'content', 'learning_outcome',\n",
       "       'literature', 'recommended_prereq', 'teaching_methods', 'workload',\n",
       "       'feedback_form', 'signup', 'exam_html', 'language', 'course_code',\n",
       "       'ects', 'level', 'duration', 'placement', 'schedule', 'capacity',\n",
       "       'study_board', 'department', 'faculty', 'course_coordinators',\n",
       "       'last_modified', 'code'],\n",
       "      dtype='object')"
      ]
     },
     "execution_count": 27,
     "metadata": {},
     "output_type": "execute_result"
    }
   ],
   "source": [
    "import pandas as pd\n",
    "\n",
    "# Load your DataFrame\n",
    "df_kuc = pd.read_csv('ku_courses.csv')\n",
    "\n",
    "# Extract the course code from the title (first 10 characters)\n",
    "df_kuc['code'] = df_kuc['title'].str[:10]\n",
    "\n",
    "# Now df_kuc['code'] contains the course codes\n",
    "df_kuc['code'].head(2)\n",
    "df_kuc.columns\n"
   ]
  },
  {
   "cell_type": "markdown",
   "id": "a8f90678",
   "metadata": {},
   "source": [
    "# Combine dfs"
   ]
  },
  {
   "cell_type": "code",
   "execution_count": 46,
   "id": "35523cf0",
   "metadata": {},
   "outputs": [
    {
     "data": {
      "text/plain": [
       "Index(['title_kuh', 'faculty_kuh', 'institute', 'term', 'ects_kuh', 'url_kuh',\n",
       "       'exam', 're_exam', 'code_kuh', 'code_trimmed', 'url_kuc', 'title_kuc',\n",
       "       'volume', 'education', 'content', 'learning_outcome', 'literature',\n",
       "       'recommended_prereq', 'teaching_methods', 'workload', 'feedback_form',\n",
       "       'signup', 'exam_html', 'language', 'course_code', 'ects_kuc', 'level',\n",
       "       'duration', 'placement', 'schedule', 'capacity', 'study_board',\n",
       "       'department', 'faculty_kuc', 'course_coordinators', 'last_modified',\n",
       "       'code_kuc'],\n",
       "      dtype='object')"
      ]
     },
     "execution_count": 46,
     "metadata": {},
     "output_type": "execute_result"
    }
   ],
   "source": [
    "# Create new trimmed code columns (excluding last character)\n",
    "df_kuc['code_trimmed'] = df_kuc['code'].astype(str).str[:-1]\n",
    "df_kuh['code_trimmed'] = df_kuh['code'].astype(str).str[:-1]\n",
    "\n",
    "# Merge on the trimmed code\n",
    "df_combined = pd.merge(df_kuh, df_kuc, on='code_trimmed', how='inner', suffixes=('_kuh', '_kuc'))\n",
    "\n",
    "# View result\n",
    "df_combined.columns\n",
    "#df_combined[['title_kuh', 'title_kuc']]\n"
   ]
  },
  {
   "cell_type": "code",
   "execution_count": 47,
   "id": "181106f3",
   "metadata": {},
   "outputs": [],
   "source": [
    "# EXPORT TO CSV\n",
    "df_combined.to_csv(\"combined.csv\", index=False)"
   ]
  }
 ],
 "metadata": {
  "kernelspec": {
   "display_name": "env_KUAPP",
   "language": "python",
   "name": "python3"
  },
  "language_info": {
   "codemirror_mode": {
    "name": "ipython",
    "version": 3
   },
   "file_extension": ".py",
   "mimetype": "text/x-python",
   "name": "python",
   "nbconvert_exporter": "python",
   "pygments_lexer": "ipython3",
   "version": "3.13.2"
  }
 },
 "nbformat": 4,
 "nbformat_minor": 5
}
