{
 "cells": [
  {
   "cell_type": "code",
   "execution_count": 2,
   "id": "e7a1bdc5",
   "metadata": {},
   "outputs": [
    {
     "name": "stdout",
     "output_type": "stream",
     "text": [
      "192\n"
     ]
    }
   ],
   "source": [
    "import pandas as pd\n",
    "import re\n",
    "\n",
    "# Load the CSV file\n",
    "df = pd.read_csv('df_clean.csv')\n",
    "\n",
    "# Display the column names\n",
    "#print(df.columns.tolist())\n",
    "print(len(df))\n",
    "\n",
    "# Display the first 5 rows in a nice table\n",
    "#display(df.head())"
   ]
  },
  {
   "cell_type": "code",
   "execution_count": null,
   "id": "0763e80f",
   "metadata": {},
   "outputs": [
    {
     "data": {
      "text/html": [
       "<div>\n",
       "<style scoped>\n",
       "    .dataframe tbody tr th:only-of-type {\n",
       "        vertical-align: middle;\n",
       "    }\n",
       "\n",
       "    .dataframe tbody tr th {\n",
       "        vertical-align: top;\n",
       "    }\n",
       "\n",
       "    .dataframe thead th {\n",
       "        text-align: right;\n",
       "    }\n",
       "</style>\n",
       "<table border=\"1\" class=\"dataframe\">\n",
       "  <thead>\n",
       "    <tr style=\"text-align: right;\">\n",
       "      <th></th>\n",
       "      <th>course_coordinator_name</th>\n",
       "      <th>course_coordinator_id</th>\n",
       "    </tr>\n",
       "  </thead>\n",
       "  <tbody>\n",
       "    <tr>\n",
       "      <th>0</th>\n",
       "      <td>Amir Yehudayoff</td>\n",
       "      <td>(4-6975816d486c7136737d366c73)</td>\n",
       "    </tr>\n",
       "    <tr>\n",
       "      <th>1</th>\n",
       "      <td>Jacob Holm</td>\n",
       "      <td>(4-6d646b7243676c316e7831676e)</td>\n",
       "    </tr>\n",
       "    <tr>\n",
       "      <th>2</th>\n",
       "      <td>Jacob Holm</td>\n",
       "      <td>(4-6d646b7243676c316e7831676e)</td>\n",
       "    </tr>\n",
       "    <tr>\n",
       "      <th>3</th>\n",
       "      <td>Amir Yehudayoff</td>\n",
       "      <td>(4-6975816d486c7136737d366c73)</td>\n",
       "    </tr>\n",
       "    <tr>\n",
       "      <th>4</th>\n",
       "      <td>Amir Yehudayoff</td>\n",
       "      <td>(4-6975816d486c7136737d366c73)</td>\n",
       "    </tr>\n",
       "  </tbody>\n",
       "</table>\n",
       "</div>"
      ],
      "text/plain": [
       "  course_coordinator_name           course_coordinator_id\n",
       "0         Amir Yehudayoff  (4-6975816d486c7136737d366c73)\n",
       "1              Jacob Holm  (4-6d646b7243676c316e7831676e)\n",
       "2              Jacob Holm  (4-6d646b7243676c316e7831676e)\n",
       "3         Amir Yehudayoff  (4-6975816d486c7136737d366c73)\n",
       "4         Amir Yehudayoff  (4-6975816d486c7136737d366c73)"
      ]
     },
     "metadata": {},
     "output_type": "display_data"
    }
   ],
   "source": [
    "def split_coordinator(row):\n",
    "    match = re.match(r\"\\['(.*)\\s\\((.*)\\)'\\]\", str(row))\n",
    "    if match:\n",
    "        return pd.Series({'course_coordinator_name': match.group(1), 'course_coordinator_id': match.group(2)})\n",
    "    else:\n",
    "        return pd.Series({'course_coordinator_name': None, 'course_coordinator_id': None})\n",
    "\n",
    "split_df = df['course_coordinators'].apply(split_coordinator)\n",
    "df['course_coordinator_name'] = split_df['course_coordinator_name']\n",
    "df['course_coordinator_id'] = split_df['course_coordinator_id']\n",
    "\n",
    "# Now df has two new columns\n",
    "display(df[['course_coordinator_name', 'course_coordinator_id']].head())\n",
    "df.to_csv('coordinator_split.csv', index=False)"
   ]
  },
  {
   "cell_type": "code",
   "execution_count": 72,
   "id": "4512865f",
   "metadata": {},
   "outputs": [
    {
     "data": {
      "text/plain": [
       "0            Amir Yehudayoff\n",
       "1          Panagiotis Karras\n",
       "2           Troels Henriksen\n",
       "3    Joanna Emilia Bergström\n",
       "4              Stefan Sommer\n",
       "5              Jens Petersen\n",
       "6             Amartya Sanyal\n",
       "Name: course_coordinator_name, dtype: object"
      ]
     },
     "metadata": {},
     "output_type": "display_data"
    },
    {
     "name": "stdout",
     "output_type": "stream",
     "text": [
      "<class 'str'>\n"
     ]
    }
   ],
   "source": [
    "def unique_code_kuc_all_columns(df):\n",
    "    \"\"\"\n",
    "    Returns a new DataFrame with all columns, keeping only the first occurrence of each unique code_kuc.\n",
    "    \"\"\"\n",
    "    return df.drop_duplicates(subset=['code_kuc']).reset_index(drop=True)\n",
    "\n",
    "# Example usage:\n",
    "unique_df = unique_code_kuc_all_columns(df)\n",
    "display(unique_df['course_coordinator_name'])\n",
    "print(type(unique_df['course_coordinator_name'][0]))"
   ]
  },
  {
   "cell_type": "code",
   "execution_count": 73,
   "id": "616a97be",
   "metadata": {},
   "outputs": [],
   "source": [
    "unique_df.to_csv('unique_courses.csv', index=False)"
   ]
  },
  {
   "cell_type": "code",
   "execution_count": 74,
   "id": "5e328d45",
   "metadata": {},
   "outputs": [
    {
     "name": "stdout",
     "output_type": "stream",
     "text": [
      "1553\n"
     ]
    }
   ],
   "source": [
    "print(unique_df['content'].str.len().max())"
   ]
  },
  {
   "cell_type": "code",
   "execution_count": null,
   "id": "69c822df",
   "metadata": {},
   "outputs": [],
   "source": []
  }
 ],
 "metadata": {
  "kernelspec": {
   "display_name": "env_DATASCI",
   "language": "python",
   "name": "python3"
  },
  "language_info": {
   "codemirror_mode": {
    "name": "ipython",
    "version": 3
   },
   "file_extension": ".py",
   "mimetype": "text/x-python",
   "name": "python",
   "nbconvert_exporter": "python",
   "pygments_lexer": "ipython3",
   "version": "3.11.4"
  }
 },
 "nbformat": 4,
 "nbformat_minor": 5
}
